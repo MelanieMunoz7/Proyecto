{
 "cells": [
  {
   "cell_type": "code",
   "execution_count": 60,
   "metadata": {
    "collapsed": false
   },
   "outputs": [],
   "source": [
    "#Solucion Par\n",
    "from matplotlib.pyplot import *\n",
    "from numpy import *\n",
    "from scipy.integrate import odeint\n",
    "from __future__ import division\n",
    "from math import pi\n",
    "%matplotlib inline \n",
    "\n",
    "# Constantes\n",
    "B=25*10**(-3)   \n",
    "L=0.25    \n",
    "m=0.1    \n",
    "xi=pi/4\n",
    "g=9.8\n",
    "vi=0  \n",
    "\n",
    "\n",
    "# Calculo de parametros:\n",
    "wn=sqrt(g/L)       # frecuencia natural\n",
    "z=B/(2*wn*m)         # constante de amortiguamiento\n",
    "wd=sqrt(1-z**2)*wn # frecuencia de oscilacion forzada\n",
    "\n",
    "tf= 9*2*pi/wd # tiempo final de simulacion: 9 periodos\n",
    "t = linspace(0, tf, 500)\n",
    "\n",
    "def x(t): # solucion al P.V.I x(0)=xi, x'(0)=vi\n",
    "    c2=xi;  c1=(z*wn*xi)/wd\n",
    "    return exp(-z*wn*t)*(c1*sin(wd*t)+c2*cos(wd*t))\n",
    "def v(t):\n",
    "    c2=xi  \n",
    "    c1=(z*wn*xi)/wd\n",
    "    return exp(-z*wn*t)*((-z*wn)*(c1*sin(wd*t)+c2*cos(wd*t)) + c1*wd*cos(wd*t)-c2*wd*sin(wd*t))\n",
    "\n",
    "\n",
    "# graficas\n",
    "fig, (ax0, ax1) = subplots(ncols=2,figsize=(12, 5))\n",
    "ax0.plot(t,v(t),'k--',label=r'$v(t)$',lw=2)\n",
    "ax0.set_xlim(0,tf);\n",
    "ax0.legend(loc='best')\n",
    "ax1.plot(x(t),v(t),'k',lw=2);\n",
    "ax1.set_title(u'Diagrama de fase')\n",
    "\n",
    "fig2=figure()\n",
    "plot(t,x(t),'k',label=r'$x(t)$',lw=2)\n",
    "xlim(0,tf);\n",
    "legend(loc='best')\n",
    "\n",
    "\n",
    "\n"
   ]
  }
 ],
 "metadata": {
  "kernelspec": {
   "display_name": "Python 2",
   "language": "python",
   "name": "python2"
  },
  "language_info": {
   "codemirror_mode": {
    "name": "ipython",
    "version": 2
   },
   "file_extension": ".py",
   "mimetype": "text/x-python",
   "name": "python",
   "nbconvert_exporter": "python",
   "pygments_lexer": "ipython2",
   "version": "2.7.8"
  },
  "name": "Sistema-Masa-Resorte.ipynb"
 },
 "nbformat": 4,
 "nbformat_minor": 0
}
